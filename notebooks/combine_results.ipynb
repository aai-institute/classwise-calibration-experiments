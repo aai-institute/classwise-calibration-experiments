{
 "cells": [
  {
   "cell_type": "code",
   "execution_count": null,
   "metadata": {},
   "outputs": [],
   "source": [
    "%matplotlib inline"
   ]
  },
  {
   "cell_type": "markdown",
   "metadata": {},
   "source": [
    "\n",
    "# Script for the combining the results of the calibration experiments\n",
    "\n",
    "We combine the different results of the calibration experiments and create the plots\n",
    "that will be used to present the results.\n"
   ]
  },
  {
   "cell_type": "markdown",
   "metadata": {},
   "source": [
    "## Imports\n",
    "\n"
   ]
  },
  {
   "cell_type": "code",
   "execution_count": null,
   "metadata": {},
   "outputs": [],
   "source": [
    "import logging\n",
    "from typing import List\n",
    "\n",
    "import pandas as pd\n",
    "\n",
    "from src.constants import OUTPUT_DIR, RANDOM_SEED\n",
    "from src.utils import (\n",
    "    configure_plots,\n",
    "    plot_evaluation_results_from_dataframe,\n",
    "    create_summary_table_with_absolute_values_and_stddev,\n",
    "    create_summary_table_with_relative_change_and_stddev,\n",
    "    set_random_seed,\n",
    ")"
   ]
  },
  {
   "cell_type": "markdown",
   "metadata": {},
   "source": [
    "## Constants\n",
    "\n"
   ]
  },
  {
   "cell_type": "code",
   "execution_count": null,
   "metadata": {},
   "outputs": [],
   "source": [
    "output_dir = OUTPUT_DIR / \"combined_results\"\n",
    "output_dir.mkdir(exist_ok=True)"
   ]
  },
  {
   "cell_type": "markdown",
   "metadata": {},
   "source": [
    "## Configuration\n",
    "\n"
   ]
  },
  {
   "cell_type": "code",
   "execution_count": null,
   "metadata": {},
   "outputs": [],
   "source": [
    "set_random_seed(RANDOM_SEED)\n",
    "configure_plots()\n",
    "\n",
    "logger = logging.getLogger(__name__)\n",
    "logging.basicConfig(level=logging.INFO, format=\"%(message)s\")"
   ]
  },
  {
   "cell_type": "markdown",
   "metadata": {},
   "source": [
    "## Data\n",
    "\n"
   ]
  },
  {
   "cell_type": "code",
   "execution_count": null,
   "metadata": {},
   "outputs": [],
   "source": [
    "all_results = []\n",
    "\n",
    "for result_file in OUTPUT_DIR.rglob(\"results.csv\"):\n",
    "    df = pd.read_csv(result_file, sep=\";\")\n",
    "    all_results.append(df)\n",
    "\n",
    "results_df = pd.concat(all_results)"
   ]
  },
  {
   "cell_type": "markdown",
   "metadata": {},
   "source": [
    "We filter the results first\n",
    "\n"
   ]
  },
  {
   "cell_type": "code",
   "execution_count": null,
   "metadata": {},
   "outputs": [],
   "source": [
    "results_df = results_df.query(\"(Metric != 'condition') & (Metric != 'weak_condition')\")\n",
    "results_df = results_df[\n",
    "    ~results_df[\"Reduction Method\"].str.lower().str.contains(\"weighted\")\n",
    "]"
   ]
  },
  {
   "cell_type": "markdown",
   "metadata": {},
   "source": [
    "## Plots\n",
    "\n"
   ]
  },
  {
   "cell_type": "code",
   "execution_count": null,
   "metadata": {},
   "outputs": [],
   "source": [
    "reduction_methods_order: List[str] = results_df[\"Reduction Method\"].unique().tolist()\n",
    "reduction_methods_order = [reduction_methods_order[0]] + sorted(\n",
    "    reduction_methods_order[1:], key=len\n",
    ")"
   ]
  },
  {
   "cell_type": "markdown",
   "metadata": {},
   "source": [
    "### Random Forest\n",
    "\n"
   ]
  },
  {
   "cell_type": "markdown",
   "metadata": {},
   "source": [
    "#### Balanced Dataset\n",
    "\n"
   ]
  },
  {
   "cell_type": "code",
   "execution_count": null,
   "metadata": {},
   "outputs": [],
   "source": [
    "logger.info(\n",
    "    \"Comparison of Beta calibration, isotonic regression and histogram binning \"\n",
    "    \"for a random forest model trained on a balanced synthetic dataset (6 folds; 25 bins). \"\n",
    "    \"For each method we plot the cross-validated estimate of ECE / cwECE together with its standard error for the baseline and class-wise, \"\n",
    "    \"reduced and class-wise reduced variants.\"\n",
    ")\n",
    "\n",
    "output_file = output_dir / \"evaluation_ECE_rf_balanced.eps\"\n",
    "\n",
    "plot_evaluation_results_from_dataframe(\n",
    "    df=results_df.query(\n",
    "        \"(Model == 'Random Forest') \"\n",
    "        \"& (Dataset == 'Synthetic Balanced') \"\n",
    "        \"& (`Calibration Method` != 'TemperatureScaling') \"\n",
    "    ),\n",
    "    hue_order=reduction_methods_order,\n",
    "    output_file=output_file,\n",
    "    show=False,\n",
    ")"
   ]
  },
  {
   "cell_type": "markdown",
   "metadata": {},
   "source": [
    "#### Imbalanced Dataset\n",
    "\n"
   ]
  },
  {
   "cell_type": "code",
   "execution_count": null,
   "metadata": {},
   "outputs": [],
   "source": [
    "logger.info(\n",
    "    \"Comparison of Beta calibration, isotonic regression and histogram binning with different Reduction methods \"\n",
    "    \"for a random forest model trained on an imbalanced synthetic dataset (6 folds; 25 bins)\"\n",
    ")\n",
    "\n",
    "output_file = output_dir / \"evaluation_ECE_rf_imbalanced.eps\"\n",
    "\n",
    "plot_evaluation_results_from_dataframe(\n",
    "    df=results_df.query(\n",
    "        \"(Model == 'Random Forest') \"\n",
    "        \"& (Dataset == 'Synthetic Imbalanced') \"\n",
    "        \"& (`Calibration Method` != 'TemperatureScaling') \"\n",
    "    ),\n",
    "    hue_order=reduction_methods_order,\n",
    "    output_file=output_file,\n",
    "    show=False,\n",
    ")"
   ]
  },
  {
   "cell_type": "markdown",
   "metadata": {},
   "source": [
    "#### Temperature Scaling and Random Forest\n",
    "\n"
   ]
  },
  {
   "cell_type": "code",
   "execution_count": null,
   "metadata": {},
   "outputs": [],
   "source": [
    "logger.info(\n",
    "    \"Evaluation of Temperature Scaling for a random forest model trained on synthetic datasets (6 folds; 25 bins). \"\n",
    "    \"For this specific problem, the distribution of the confidences hinders the method from correctly recalibrating, \"\n",
    "    \"independently of the reduction.\"\n",
    ")\n",
    "\n",
    "output_file = output_dir / \"evaluation_ECE_rf_temperature_scaling.eps\"\n",
    "\n",
    "plot_evaluation_results_from_dataframe(\n",
    "    df=results_df.query(\n",
    "        \"(Model == 'Random Forest') \"\n",
    "        \"& (`Calibration Method` == 'TemperatureScaling') \"\n",
    "    ),\n",
    "    hue_order=reduction_methods_order,\n",
    "    output_file=output_file,\n",
    "    show=False,\n",
    ")"
   ]
  },
  {
   "cell_type": "markdown",
   "metadata": {},
   "source": [
    "### Other Models and Datasets\n",
    "\n"
   ]
  },
  {
   "cell_type": "markdown",
   "metadata": {},
   "source": [
    "#### ECE\n",
    "\n"
   ]
  },
  {
   "cell_type": "code",
   "execution_count": null,
   "metadata": {},
   "outputs": [],
   "source": [
    "logger.info(\n",
    "    \"Comparison of Beta calibration, isotonic regression, histogram binning and temperature scaling \"\n",
    "    \"for 3 models trained on 3 real world datasets (6 folds; 25 bins). \"\n",
    "    \"For each method we plot the cross-validated estimate of ECE together with its standard error \"\n",
    "    \"for the baseline and class-wise, reduced and class-wise reduced variants.\"\n",
    ")\n",
    "\n",
    "output_file = output_dir / \"evaluation_ECE_multiple.eps\"\n",
    "\n",
    "plot_evaluation_results_from_dataframe(\n",
    "    df=results_df.query(\"(Model != 'Random Forest') & (Metric == 'ECE')\"),\n",
    "    hue_order=reduction_methods_order,\n",
    "    output_file=output_file,\n",
    "    show=False,\n",
    ")"
   ]
  },
  {
   "cell_type": "markdown",
   "metadata": {},
   "source": [
    "#### cwECE\n",
    "\n"
   ]
  },
  {
   "cell_type": "code",
   "execution_count": null,
   "metadata": {},
   "outputs": [],
   "source": [
    "logger.info(\n",
    "    \"Comparison of Beta calibration, isotonic regression, histogram binning and temperature scaling \"\n",
    "    \"for 3 models trained on 3 real world datasets (6 folds; 25 bins). \"\n",
    "    \"For each method we plot the cross-validated estimate of cwECE together with its standard error \"\n",
    "    \"for the baseline and class-wise, reduced and class-wise reduced variants.\"\n",
    ")\n",
    "\n",
    "output_file = output_dir / \"evaluation_cwECE_multiple.eps\"\n",
    "\n",
    "plot_evaluation_results_from_dataframe(\n",
    "    df=results_df.query(\"(Model != 'Random Forest') & (Metric == 'cwECE')\"),\n",
    "    hue_order=reduction_methods_order,\n",
    "    output_file=output_file,\n",
    "    show=False,\n",
    ")"
   ]
  },
  {
   "cell_type": "markdown",
   "metadata": {},
   "source": [
    "## Tables\n",
    "\n"
   ]
  },
  {
   "cell_type": "markdown",
   "metadata": {},
   "source": [
    "### ECE\n",
    "\n"
   ]
  },
  {
   "cell_type": "code",
   "execution_count": null,
   "metadata": {},
   "outputs": [],
   "source": [
    "ece_summary_df = create_summary_table_with_absolute_values_and_stddev(\n",
    "    results_df[results_df[\"Metric\"] == \"ECE\"], reduction_methods_order\n",
    ")\n",
    "ece_summary_df.to_csv(output_dir / \"ece_results_summary_absolute.csv\")\n",
    "\n",
    "ece_summary_df_relative_change = create_summary_table_with_relative_change_and_stddev(\n",
    "    results_df[results_df[\"Metric\"] == \"ECE\"].copy(),\n",
    "    reduction_methods_order,\n",
    ")\n",
    "ece_summary_df_relative_change.to_csv(output_dir / \"ece_results_summary_relative.csv\")"
   ]
  },
  {
   "cell_type": "markdown",
   "metadata": {},
   "source": [
    "### cwECE\n",
    "\n"
   ]
  },
  {
   "cell_type": "code",
   "execution_count": null,
   "metadata": {},
   "outputs": [],
   "source": [
    "cwece_summary_df = create_summary_table_with_absolute_values_and_stddev(\n",
    "    results_df[results_df[\"Metric\"] == \"cwECE\"], reduction_methods_order\n",
    ")\n",
    "cwece_summary_df.to_csv(output_dir / \"cwece_results_summary_absolute.csv\")\n",
    "\n",
    "cwece_summary_df_relative_change = create_summary_table_with_relative_change_and_stddev(\n",
    "    results_df[results_df[\"Metric\"] == \"cwECE\"].copy(),\n",
    "    reduction_methods_order,\n",
    ")\n",
    "cwece_summary_df_relative_change.to_csv(\n",
    "    output_dir / \"cwece_results_summary_relative.csv\"\n",
    ")"
   ]
  }
 ],
 "metadata": {
  "kernelspec": {
   "display_name": "Python 3",
   "language": "python",
   "name": "python3"
  },
  "language_info": {
   "codemirror_mode": {
    "name": "ipython",
    "version": 3
   },
   "file_extension": ".py",
   "mimetype": "text/x-python",
   "name": "python",
   "nbconvert_exporter": "python",
   "pygments_lexer": "ipython3",
   "version": "3.9.5"
  }
 },
 "nbformat": 4,
 "nbformat_minor": 0
}
